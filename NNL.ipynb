{
  "nbformat": 4,
  "nbformat_minor": 0,
  "metadata": {
    "colab": {
      "provenance": [],
      "authorship_tag": "ABX9TyMFTtuWL0Yp48mBwOGDwtQH",
      "include_colab_link": true
    },
    "kernelspec": {
      "name": "python3",
      "display_name": "Python 3"
    },
    "language_info": {
      "name": "python"
    }
  },
  "cells": [
    {
      "cell_type": "markdown",
      "metadata": {
        "id": "view-in-github",
        "colab_type": "text"
      },
      "source": [
        "<a href=\"https://colab.research.google.com/github/AbhimanyuMina/Neural-Networking/blob/main/NNL.ipynb\" target=\"_parent\"><img src=\"https://colab.research.google.com/assets/colab-badge.svg\" alt=\"Open In Colab\"/></a>"
      ]
    },
    {
      "cell_type": "code",
      "execution_count": null,
      "metadata": {
        "id": "4MA15YwP6rIE"
      },
      "outputs": [],
      "source": [
        "import numpy as np"
      ]
    },
    {
      "cell_type": "code",
      "source": [
        "X = np.asarray([[0,0],[0,1],[1,0],[1,1]])\n",
        "Y = np.asarray([0,0,0,1])\n",
        "Y_prod = np.zeros(4)\n",
        "\n",
        "weights = np.asarray([1,1])\n",
        "threshold = 1.5\n",
        "\n",
        "for index in range(X.shape[0]):\n",
        "  x=X[index]\n",
        "  sum=np.dot(x,weights)\n",
        "  if sum>=threshold:\n",
        "    Y_prod[index]=1\n",
        "  else:\n",
        "    Y_prod[index]= 0\n",
        "print(Y_prod)"
      ],
      "metadata": {
        "colab": {
          "base_uri": "https://localhost:8080/"
        },
        "id": "hDG8XCxn6sG_",
        "outputId": "a813545d-35ec-4a4a-e7c2-5b714ad270e0"
      },
      "execution_count": null,
      "outputs": [
        {
          "output_type": "stream",
          "name": "stdout",
          "text": [
            "[0. 0. 0. 1.]\n"
          ]
        }
      ]
    }
  ]
}